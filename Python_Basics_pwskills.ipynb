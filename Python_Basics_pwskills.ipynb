{
  "nbformat": 4,
  "nbformat_minor": 0,
  "metadata": {
    "colab": {
      "provenance": []
    },
    "kernelspec": {
      "name": "python3",
      "display_name": "Python 3"
    },
    "language_info": {
      "name": "python"
    }
  },
  "cells": [
    {
      "cell_type": "markdown",
      "source": [
        "1 . What is Python , and why is it popular ?\n",
        "   - Python is a high level programming language known for its readability.\n",
        "   - Python has a big pool of libraries for user simplicity.\n",
        "   - Python is versatile and used in different domains such as web    \n",
        "     devlopment , Data science and machine learning.\n",
        "\n",
        "2 . what is an Interpreter in python ?\n",
        "   - The basic objective of the Interpreter is to show the output of a line of\n",
        "     code without actually compiling it.\n",
        "\n",
        "3 . What is pre - defined keywords in Python ?\n",
        "   - Reserved words that cannot be used as a variable or function name , as\n",
        "     They are fundamental syntax of the programming language.\n",
        "     \n",
        "     eg. True , False , if ,  else , elif.\n",
        "\n",
        "4 . Can keywords be used as variable names ?\n",
        "   - That is not possible, as they are reserved words.\n",
        "\n",
        "5 . What is mutability in Python?\n",
        "   - Is a feature in Python where as in after the creation of the object ,\n",
        "     There are possibility of changing the object.\n",
        "\n",
        "6 .  Why are lists mutable, but tuples are immutable ?\n",
        "\n",
        "   - Lists are used when you need a collection of items that can change over\n",
        "     time—like adding, removing, or modifying elements.\n",
        "   - Tuples are often used to store heterogeneous data like a database  \n",
        "     record or data you do not want accidentally changed.\n",
        "\n",
        "7.   What is the difference between “==” and “is” operators in Python ?\n",
        "    \n",
        "    - \"==\" - Do these two object have the same value.\n",
        "    - \"is\" - Are two objects have the same memory location.\n",
        "\n",
        "8.   What are logical operators in Python ?\n",
        "     \n",
        "    - There are three main ones :\n",
        "\n",
        "      AND : both statements are true\n",
        "      OR. : one of the statements is true\n",
        "      NOT : Binary output.\n",
        "\n",
        "9.   What is type casting in Python ?\n",
        "   \n",
        "    - Converting one data type to another like String to Integer.\n",
        "\n",
        "10.  What is the difference between implicit and explicit type casting ?\n",
        "\n",
        "    - Python converts one data type to another to avoid data loss.\n",
        "\n",
        "    - User converts the data type. eg String to integer.\n",
        "\n",
        "11.  What is the purpose of conditional statements in Python ?\n",
        "  \n",
        "    - Helps to control and manipulate the flow of code in the programming\n",
        "      language.\n",
        "\n",
        "12.  How does the elif statement work ?\n",
        "\n",
        "    - This \"elif\" statement is a alternative to \"nested if\" statements.\n",
        "\n",
        "13.  What is the difference between for and while loops ?\n",
        "    \n",
        "    - \"For loop \" runs over a fixed range\n",
        "    - \"while loop\" runs till a condition is true or false chances of infinite\n",
        "      looping is very high\n",
        "\n",
        "14. Describe a scenario where a while loop is more suitable than a for loop?\n",
        "    - In a conditional scenario where you need to type the password til you   enter the correct pin or password.\n",
        "\n",
        "\n",
        "\n",
        "\n",
        "\n",
        "\n"
      ],
      "metadata": {
        "id": "WPnRct8_Vx-U"
      }
    },
    {
      "cell_type": "code",
      "source": [
        "# 1 . Write a Python program to print \"Hello, World!\n",
        "\n",
        "\n",
        "print(\"Hello, World!\")\n"
      ],
      "metadata": {
        "colab": {
          "base_uri": "https://localhost:8080/"
        },
        "id": "95j69KkvrmQf",
        "outputId": "923a8be1-9c30-486d-ff7c-9dc7972c7da5"
      },
      "execution_count": 1,
      "outputs": [
        {
          "output_type": "stream",
          "name": "stdout",
          "text": [
            "Hello, World!\n"
          ]
        }
      ]
    },
    {
      "cell_type": "code",
      "source": [
        "# 2 . Write a Python program that displays your name and age.\n",
        "\n",
        "name = \"Shantanu Das Gupta\"\n",
        "age = 26\n",
        "\n",
        "print(\"Name: \", name)\n",
        "print(\"Age: \", age)\n"
      ],
      "metadata": {
        "colab": {
          "base_uri": "https://localhost:8080/"
        },
        "id": "OZ_RloZisCWK",
        "outputId": "bf1b06a8-eff8-4d6e-d121-c655b55b9d2f"
      },
      "execution_count": 2,
      "outputs": [
        {
          "output_type": "stream",
          "name": "stdout",
          "text": [
            "Name:  Shantanu Das Gupta\n",
            "Age:  26\n"
          ]
        }
      ]
    },
    {
      "cell_type": "code",
      "source": [
        "# 3 .  Write code to print all the pre-defined keywords in Python using the keyword library.\n",
        "\n",
        "import keyword\n",
        "print(\"List of Python keywords:\", keyword.kwlist , end = \" \")\n",
        ""
      ],
      "metadata": {
        "colab": {
          "base_uri": "https://localhost:8080/"
        },
        "id": "n-7iGhMasbtW",
        "outputId": "8eb63f09-b1fb-438d-890a-de711516632b"
      },
      "execution_count": 5,
      "outputs": [
        {
          "output_type": "stream",
          "name": "stdout",
          "text": [
            "List of Python keywords: ['False', 'None', 'True', 'and', 'as', 'assert', 'async', 'await', 'break', 'class', 'continue', 'def', 'del', 'elif', 'else', 'except', 'finally', 'for', 'from', 'global', 'if', 'import', 'in', 'is', 'lambda', 'nonlocal', 'not', 'or', 'pass', 'raise', 'return', 'try', 'while', 'with', 'yield'] "
          ]
        }
      ]
    },
    {
      "cell_type": "code",
      "source": [
        "# 4 .Write a program that checks if a given word is a Python keyword.\n",
        "import keyword\n",
        "\n",
        "ObjectName = input(\"String :- \")\n",
        "\n",
        "if keyword.iskeyword(ObjectName):\n",
        "    print(f\"'{ObjectName}' is a Python keyword.\")\n",
        "else:\n",
        "    print(f\"'{ObjectName}' is not a Python keyword.\")\n"
      ],
      "metadata": {
        "colab": {
          "base_uri": "https://localhost:8080/"
        },
        "id": "yCk0F-KQtbNp",
        "outputId": "33070fb3-c4ee-452a-f599-ad23488b86e7"
      },
      "execution_count": 9,
      "outputs": [
        {
          "output_type": "stream",
          "name": "stdout",
          "text": [
            "String :- if\n",
            "'if' is a Python keyword.\n"
          ]
        }
      ]
    },
    {
      "cell_type": "code",
      "source": [
        "'''5 . Create a list and tuple in Python, and demonstrate how attempting to change an element works differently\n",
        "       for each'''\n",
        "\n",
        "Shantanu_list = [30, 45, 48, 47]\n",
        "Shantanu_tuple = (1, 2, 3, 4)\n",
        "\n",
        "\n",
        "\n",
        "Shantanu_list[2] = 99\n",
        "print(\"Modified list:- \", Shantanu_list)\n",
        "\n",
        "  # Same can't be done with tuple as they are immutable."
      ],
      "metadata": {
        "colab": {
          "base_uri": "https://localhost:8080/"
        },
        "id": "hH-EvaN8utp7",
        "outputId": "81468182-9782-44ae-f743-de2309136bf5"
      },
      "execution_count": 10,
      "outputs": [
        {
          "output_type": "stream",
          "name": "stdout",
          "text": [
            "Modified list:-  [30, 45, 99, 47]\n"
          ]
        }
      ]
    },
    {
      "cell_type": "code",
      "source": [
        "# 6. Write a function to demonstrate the behavior of mutable and immutable arguments.\n",
        "\n",
        "\n",
        "def modify(a, b):\n",
        "    a.append(100)\n",
        "    a.append(500)\n",
        "    a.append(700)  # I am adding 100,500,700 in the list by appending.\n",
        "    b = 200\n",
        "\n",
        "Shantanu_list = [1, 2, 3]\n",
        "Shantanu_number = 50\n",
        "\n",
        "modify(Shantanu_list,Shantanu_number)\n",
        "print(\"Mutable argument: \", Shantanu_list , \" modified list after appending\")\n",
        "print(\"Immutable argument: \", Shantanu_number ,\"here no change\")\n",
        "\n",
        "\n",
        "\n",
        "\n"
      ],
      "metadata": {
        "colab": {
          "base_uri": "https://localhost:8080/"
        },
        "id": "mlUzsm8uvdmf",
        "outputId": "adae3d20-e25b-40a5-d2a7-3db650c01ae6"
      },
      "execution_count": 16,
      "outputs": [
        {
          "output_type": "stream",
          "name": "stdout",
          "text": [
            "Mutable argument:  [1, 2, 3, 100, 500, 700]  modified list after appending\n",
            "Immutable argument:  50 here no change\n"
          ]
        }
      ]
    },
    {
      "cell_type": "code",
      "source": [
        "# 7. Write a program that performs basic arithmetic operations on two user-input numbers.\n",
        "\n",
        "a = float(input(\"Enter the value of a: \"))\n",
        "b = float(input(\"Enter the value of b: \"))\n",
        "\n",
        "\n",
        "add = a + b\n",
        "sub = a - b\n",
        "mul = a * b\n",
        "div = a / b\n",
        "\n",
        "print(f\"Addition: {a} + {b} = {add}\")\n",
        "print(f\"Subtraction: {a} - {b} = {sub}\")\n",
        "print(f\"Multiplication: {a} * {b} = {mul}\")\n",
        "print(f\"Division: {a} / {b} = {div}\")\n",
        "print(\"Shantanu calculator\")"
      ],
      "metadata": {
        "colab": {
          "base_uri": "https://localhost:8080/"
        },
        "id": "ei5C2YsmzVFy",
        "outputId": "fb9cc993-a3d9-489c-e4ff-077e6de6db82"
      },
      "execution_count": 18,
      "outputs": [
        {
          "output_type": "stream",
          "name": "stdout",
          "text": [
            "Enter the value of a: 4\n",
            "Enter the value of b: 2\n",
            "Addition: 4.0 + 2.0 = 6.0\n",
            "Subtraction: 4.0 - 2.0 = 2.0\n",
            "Multiplication: 4.0 * 2.0 = 8.0\n",
            "Division: 4.0 / 2.0 = 2.0\n",
            "Shantanu calculator\n"
          ]
        }
      ]
    },
    {
      "cell_type": "code",
      "source": [
        "# 8. Write a program to demonstrate the use of logical operators.\n",
        "\n",
        "\n",
        "a = int(input(\"Enter input for a \"))\n",
        "b = int(input(\"Enter input for b \"))\n",
        "\n",
        "\n",
        "\n",
        "if a > 0 and b > 0:\n",
        "    print(\"Both numbers are positive.\")\n",
        "if a > 0 or b > 0:\n",
        "    print(\"At least one number is positive.\")\n",
        "if not a < 0:\n",
        "    print(\"The first number is non-negative.\")\n",
        "\n",
        "if not (a < 0 or b < 0):\n",
        "    print(\"Neither number is negative.\")\n",
        "\n",
        "\n",
        "\n",
        "\n",
        "print(\"code by shantanu\")\n"
      ],
      "metadata": {
        "colab": {
          "base_uri": "https://localhost:8080/"
        },
        "id": "uvTbq5371VIy",
        "outputId": "e508531e-3cd8-41a5-b62e-491c3b6d2e4d"
      },
      "execution_count": 20,
      "outputs": [
        {
          "output_type": "stream",
          "name": "stdout",
          "text": [
            "Enter input for a 4\n",
            "Enter input for b 4\n",
            "Both numbers are positive.\n",
            "At least one number is positive.\n",
            "The first number is non-negative.\n",
            "Neither number is negative.\n",
            "code by shantanu\n"
          ]
        }
      ]
    },
    {
      "cell_type": "code",
      "source": [
        "# 9. Write a Python program to convert user input from string to integer, float, and boolean types.\n",
        "\n",
        "Input_by_Shantanu = input(\"input : \")\n",
        "\n",
        "int_value = int(Input_by_Shantanu)\n",
        "print(f\"Integer: {int_value}\")\n",
        "\n",
        "float_value = float(Input_by_Shantanu)\n",
        "print(f\"Float: {float_value}\")\n",
        "\n",
        "boolean_value = bool(Input_by_Shantanu)\n",
        "print(f\"Boolean: {boolean_value}\")\n",
        "\n",
        "\n",
        "\n"
      ],
      "metadata": {
        "colab": {
          "base_uri": "https://localhost:8080/"
        },
        "id": "DRMLB3fg2dHH",
        "outputId": "baca17e9-17b6-4dc3-e208-8e05ba303ab1"
      },
      "execution_count": 21,
      "outputs": [
        {
          "output_type": "stream",
          "name": "stdout",
          "text": [
            "input : 76\n",
            "Integer: 76\n",
            "Float: 76.0\n",
            "Boolean: True\n"
          ]
        }
      ]
    },
    {
      "cell_type": "code",
      "source": [
        "# 10. Write code to demonstrate type casting with list elements.\n",
        "\n",
        "Original_list = ['1', '2', '3.5', '4.0', '5']\n",
        "\n",
        "\n",
        "casted_list = [int(x)\n",
        "               if '.' not in x\n",
        "               else float(x) for x in Original_list]\n",
        "\n",
        "\n",
        "print(\"Original list:\", Original_list)\n",
        "print(\"Casted list:\", casted_list)\n",
        "\n",
        "print(\"code by Shantanu\")\n",
        "\n",
        "\n",
        "\n",
        "\n",
        "\n",
        "\n"
      ],
      "metadata": {
        "colab": {
          "base_uri": "https://localhost:8080/"
        },
        "id": "pOLbEA0n4DAP",
        "outputId": "08249c5e-4e35-4fa0-c397-155a8fa9fd41"
      },
      "execution_count": 23,
      "outputs": [
        {
          "output_type": "stream",
          "name": "stdout",
          "text": [
            "Original list: ['1', '2', '3.5', '4.0', '5']\n",
            "Casted list: [1, 2, 3.5, 4.0, 5]\n",
            "code by Shantanu\n"
          ]
        }
      ]
    },
    {
      "cell_type": "code",
      "source": [
        "# 11 .  Write a program that checks if a number is positive, negative, or zero.\n",
        "\n",
        "n = float(input(\"Enter a number: \"))\n",
        "if n > 0:\n",
        "    print(f\"The number {n} is positive.\")\n",
        "elif n < 0:\n",
        "    print(f\"The number {n} is negative.\")\n",
        "else:\n",
        "    print(f\"The number {n} is zero.\")\n",
        "\n",
        "print(\"code by shantanu\")\n"
      ],
      "metadata": {
        "colab": {
          "base_uri": "https://localhost:8080/"
        },
        "id": "nSTIGazG6jdw",
        "outputId": "5f55d762-38e7-48bf-da85-c93ad3d46197"
      },
      "execution_count": 25,
      "outputs": [
        {
          "output_type": "stream",
          "name": "stdout",
          "text": [
            "Enter a number: -9\n",
            "The number -9.0 is negative.\n",
            "code by shantanu\n"
          ]
        }
      ]
    },
    {
      "cell_type": "code",
      "source": [
        "# 12. Write a for loop to print numbers from 1 to 10.\n",
        "\n",
        "for i in range(1, 11):\n",
        "    print(i)\n",
        "print(\"code by shantanu\")"
      ],
      "metadata": {
        "colab": {
          "base_uri": "https://localhost:8080/"
        },
        "id": "FwKdEQFIhGZr",
        "outputId": "cb6ad269-c69d-40a3-be53-c94c13ea5eaa"
      },
      "execution_count": 27,
      "outputs": [
        {
          "output_type": "stream",
          "name": "stdout",
          "text": [
            "1\n",
            "2\n",
            "3\n",
            "4\n",
            "5\n",
            "6\n",
            "7\n",
            "8\n",
            "9\n",
            "10\n",
            "code by shantanu\n"
          ]
        }
      ]
    },
    {
      "cell_type": "code",
      "source": [
        "# 13.  Write a Python program to find the sum of all even numbers between 1 and 50.\n",
        "\n",
        "\n",
        "sum = 0\n",
        "\n",
        "for num in range(2, 51, 2):\n",
        "    sum = sum + num\n",
        "\n",
        "print(f\"The even sum is {sum} code is written by shantanu\")\n",
        "\n"
      ],
      "metadata": {
        "colab": {
          "base_uri": "https://localhost:8080/"
        },
        "id": "oEwZc9EJhWmb",
        "outputId": "9c58faed-0f0b-4bf3-e25b-49525501d3e2"
      },
      "execution_count": 29,
      "outputs": [
        {
          "output_type": "stream",
          "name": "stdout",
          "text": [
            "The even sum is 650 code is written by shantanu\n"
          ]
        }
      ]
    },
    {
      "cell_type": "code",
      "source": [
        "# 14. Write a program to reverse a string using a while loop.\n",
        "\n",
        "text = input(\"Enter a string: \")\n",
        "reversed_text = \"\"\n",
        "i = len(text) - 1\n",
        "\n",
        "while i >= 0:\n",
        "    reversed_text += text[i]\n",
        "    i -= 1\n",
        "\n",
        "print(\"Reversed string:\", reversed_text)\n"
      ],
      "metadata": {
        "colab": {
          "base_uri": "https://localhost:8080/"
        },
        "id": "6QVA3KV-iV9q",
        "outputId": "af0d5de6-d711-4a2d-a72a-42eb04c97c6e"
      },
      "execution_count": 33,
      "outputs": [
        {
          "output_type": "stream",
          "name": "stdout",
          "text": [
            "Enter a string: s h a n t a n u\n",
            "Reversed string: u n a t n a h s\n"
          ]
        }
      ]
    },
    {
      "cell_type": "code",
      "source": [
        "#  Write a Python program to calculate the factorial of a number provided by the user using a while loop.\n",
        "\n",
        "n = int(input(\"Enter a number : \"))\n",
        "fact = 1\n",
        "i = 1\n",
        "while i <= n:\n",
        "    fact *= i\n",
        "    i += 1\n",
        "\n",
        "print(f\"Factorial of {n} is {fact}\")\n"
      ],
      "metadata": {
        "colab": {
          "base_uri": "https://localhost:8080/"
        },
        "id": "niLnSgPYkjM-",
        "outputId": "02ba25df-464e-492d-b325-37ae7a1353a1"
      },
      "execution_count": 35,
      "outputs": [
        {
          "output_type": "stream",
          "name": "stdout",
          "text": [
            "Enter a number : 6\n",
            "Factorial of 6 is 720\n"
          ]
        }
      ]
    }
  ]
}